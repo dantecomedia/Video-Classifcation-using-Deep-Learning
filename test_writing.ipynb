{
  "nbformat": 4,
  "nbformat_minor": 0,
  "metadata": {
    "colab": {
      "name": "test_writing.ipynb",
      "provenance": [],
      "machine_shape": "hm",
      "authorship_tag": "ABX9TyNhkDtxDsVWC2Ugur42M51H",
      "include_colab_link": true
    },
    "kernelspec": {
      "name": "python3",
      "display_name": "Python 3"
    },
    "accelerator": "GPU"
  },
  "cells": [
    {
      "cell_type": "markdown",
      "metadata": {
        "id": "view-in-github",
        "colab_type": "text"
      },
      "source": [
        "<a href=\"https://colab.research.google.com/github/dantecomedia/Video-Classifcation-using-Deep-Learning/blob/master/test_writing.ipynb\" target=\"_parent\"><img src=\"https://colab.research.google.com/assets/colab-badge.svg\" alt=\"Open In Colab\"/></a>"
      ]
    },
    {
      "cell_type": "code",
      "metadata": {
        "id": "tNABrg9TINqB",
        "colab_type": "code",
        "colab": {
          "base_uri": "https://localhost:8080/",
          "height": 124
        },
        "outputId": "77f03b5b-aee8-435f-a23d-a79619883b4d"
      },
      "source": [
        "from google.colab import drive \n",
        "drive.mount(\"/content/gdrive\")"
      ],
      "execution_count": 1,
      "outputs": [
        {
          "output_type": "stream",
          "text": [
            "Go to this URL in a browser: https://accounts.google.com/o/oauth2/auth?client_id=947318989803-6bn6qk8qdgf4n4g3pfee6491hc0brc4i.apps.googleusercontent.com&redirect_uri=urn%3aietf%3awg%3aoauth%3a2.0%3aoob&response_type=code&scope=email%20https%3a%2f%2fwww.googleapis.com%2fauth%2fdocs.test%20https%3a%2f%2fwww.googleapis.com%2fauth%2fdrive%20https%3a%2f%2fwww.googleapis.com%2fauth%2fdrive.photos.readonly%20https%3a%2f%2fwww.googleapis.com%2fauth%2fpeopleapi.readonly\n",
            "\n",
            "Enter your authorization code:\n",
            "··········\n",
            "Mounted at /content/gdrive\n"
          ],
          "name": "stdout"
        }
      ]
    },
    {
      "cell_type": "code",
      "metadata": {
        "id": "JbYnfpSGKocg",
        "colab_type": "code",
        "colab": {}
      },
      "source": [
        "!mkdir \"/content/video\""
      ],
      "execution_count": null,
      "outputs": []
    },
    {
      "cell_type": "code",
      "metadata": {
        "id": "v5LBPzB7KidE",
        "colab_type": "code",
        "colab": {}
      },
      "source": [
        "!cp \"/content/gdrive/My Drive/Security Dataset/videos for Test/lHkl9AA0SwKFhu9j.mp4\" \"/content/video\""
      ],
      "execution_count": null,
      "outputs": []
    },
    {
      "cell_type": "code",
      "metadata": {
        "id": "uIGA78JINGMS",
        "colab_type": "code",
        "colab": {}
      },
      "source": [
        "!cp \"/content/gdrive/My Drive/Security Dataset/Abuse/weights/Model_Abuse_1.weights.best.hdf5\" \"/content\"\n",
        "!cp \"/content/gdrive/My Drive/Security Dataset/Fighting/weights/Model_Fighting_1.weights.best.hdf5\" \"/content\"\n",
        "!cp \"/content/gdrive/My Drive/Security Dataset/Assault/weights/Model_depthwise_1_Assault.weights.best.hdf5\" \"/content\"\n",
        "!cp \"/content/gdrive/My Drive/Security Dataset/videos for Test/Copy of Abuse023_x264_22.mp4\" \"/content/video\""
      ],
      "execution_count": null,
      "outputs": []
    },
    {
      "cell_type": "code",
      "metadata": {
        "id": "95LxwBUb28gL",
        "colab_type": "code",
        "colab": {
          "base_uri": "https://localhost:8080/",
          "height": 176
        },
        "outputId": "f10b6c2e-d021-4709-856b-755f2f789b9b"
      },
      "source": [
        "!pip install scikit-video"
      ],
      "execution_count": 2,
      "outputs": [
        {
          "output_type": "stream",
          "text": [
            "Collecting scikit-video\n",
            "\u001b[?25l  Downloading https://files.pythonhosted.org/packages/b1/a6/c69cad508139a342810ae46e946ebb3256aa6e42f690d901bb68f50582e3/scikit_video-1.1.11-py2.py3-none-any.whl (2.3MB)\n",
            "\r\u001b[K     |▏                               | 10kB 26.3MB/s eta 0:00:01\r\u001b[K     |▎                               | 20kB 1.7MB/s eta 0:00:02\r\u001b[K     |▍                               | 30kB 2.3MB/s eta 0:00:01\r\u001b[K     |▋                               | 40kB 2.6MB/s eta 0:00:01\r\u001b[K     |▊                               | 51kB 2.0MB/s eta 0:00:02\r\u001b[K     |▉                               | 61kB 2.3MB/s eta 0:00:01\r\u001b[K     |█                               | 71kB 2.5MB/s eta 0:00:01\r\u001b[K     |█▏                              | 81kB 2.7MB/s eta 0:00:01\r\u001b[K     |█▎                              | 92kB 3.0MB/s eta 0:00:01\r\u001b[K     |█▌                              | 102kB 2.8MB/s eta 0:00:01\r\u001b[K     |█▋                              | 112kB 2.8MB/s eta 0:00:01\r\u001b[K     |█▊                              | 122kB 2.8MB/s eta 0:00:01\r\u001b[K     |██                              | 133kB 2.8MB/s eta 0:00:01\r\u001b[K     |██                              | 143kB 2.8MB/s eta 0:00:01\r\u001b[K     |██▏                             | 153kB 2.8MB/s eta 0:00:01\r\u001b[K     |██▎                             | 163kB 2.8MB/s eta 0:00:01\r\u001b[K     |██▌                             | 174kB 2.8MB/s eta 0:00:01\r\u001b[K     |██▋                             | 184kB 2.8MB/s eta 0:00:01\r\u001b[K     |██▊                             | 194kB 2.8MB/s eta 0:00:01\r\u001b[K     |███                             | 204kB 2.8MB/s eta 0:00:01\r\u001b[K     |███                             | 215kB 2.8MB/s eta 0:00:01\r\u001b[K     |███▏                            | 225kB 2.8MB/s eta 0:00:01\r\u001b[K     |███▍                            | 235kB 2.8MB/s eta 0:00:01\r\u001b[K     |███▌                            | 245kB 2.8MB/s eta 0:00:01\r\u001b[K     |███▋                            | 256kB 2.8MB/s eta 0:00:01\r\u001b[K     |███▉                            | 266kB 2.8MB/s eta 0:00:01\r\u001b[K     |████                            | 276kB 2.8MB/s eta 0:00:01\r\u001b[K     |████                            | 286kB 2.8MB/s eta 0:00:01\r\u001b[K     |████▏                           | 296kB 2.8MB/s eta 0:00:01\r\u001b[K     |████▍                           | 307kB 2.8MB/s eta 0:00:01\r\u001b[K     |████▌                           | 317kB 2.8MB/s eta 0:00:01\r\u001b[K     |████▋                           | 327kB 2.8MB/s eta 0:00:01\r\u001b[K     |████▉                           | 337kB 2.8MB/s eta 0:00:01\r\u001b[K     |█████                           | 348kB 2.8MB/s eta 0:00:01\r\u001b[K     |█████                           | 358kB 2.8MB/s eta 0:00:01\r\u001b[K     |█████▎                          | 368kB 2.8MB/s eta 0:00:01\r\u001b[K     |█████▍                          | 378kB 2.8MB/s eta 0:00:01\r\u001b[K     |█████▌                          | 389kB 2.8MB/s eta 0:00:01\r\u001b[K     |█████▊                          | 399kB 2.8MB/s eta 0:00:01\r\u001b[K     |█████▉                          | 409kB 2.8MB/s eta 0:00:01\r\u001b[K     |██████                          | 419kB 2.8MB/s eta 0:00:01\r\u001b[K     |██████                          | 430kB 2.8MB/s eta 0:00:01\r\u001b[K     |██████▎                         | 440kB 2.8MB/s eta 0:00:01\r\u001b[K     |██████▍                         | 450kB 2.8MB/s eta 0:00:01\r\u001b[K     |██████▌                         | 460kB 2.8MB/s eta 0:00:01\r\u001b[K     |██████▊                         | 471kB 2.8MB/s eta 0:00:01\r\u001b[K     |██████▉                         | 481kB 2.8MB/s eta 0:00:01\r\u001b[K     |███████                         | 491kB 2.8MB/s eta 0:00:01\r\u001b[K     |███████▏                        | 501kB 2.8MB/s eta 0:00:01\r\u001b[K     |███████▎                        | 512kB 2.8MB/s eta 0:00:01\r\u001b[K     |███████▍                        | 522kB 2.8MB/s eta 0:00:01\r\u001b[K     |███████▋                        | 532kB 2.8MB/s eta 0:00:01\r\u001b[K     |███████▊                        | 542kB 2.8MB/s eta 0:00:01\r\u001b[K     |███████▉                        | 552kB 2.8MB/s eta 0:00:01\r\u001b[K     |████████                        | 563kB 2.8MB/s eta 0:00:01\r\u001b[K     |████████▏                       | 573kB 2.8MB/s eta 0:00:01\r\u001b[K     |████████▎                       | 583kB 2.8MB/s eta 0:00:01\r\u001b[K     |████████▍                       | 593kB 2.8MB/s eta 0:00:01\r\u001b[K     |████████▋                       | 604kB 2.8MB/s eta 0:00:01\r\u001b[K     |████████▊                       | 614kB 2.8MB/s eta 0:00:01\r\u001b[K     |████████▉                       | 624kB 2.8MB/s eta 0:00:01\r\u001b[K     |█████████                       | 634kB 2.8MB/s eta 0:00:01\r\u001b[K     |█████████▏                      | 645kB 2.8MB/s eta 0:00:01\r\u001b[K     |█████████▎                      | 655kB 2.8MB/s eta 0:00:01\r\u001b[K     |█████████▌                      | 665kB 2.8MB/s eta 0:00:01\r\u001b[K     |█████████▋                      | 675kB 2.8MB/s eta 0:00:01\r\u001b[K     |█████████▊                      | 686kB 2.8MB/s eta 0:00:01\r\u001b[K     |█████████▉                      | 696kB 2.8MB/s eta 0:00:01\r\u001b[K     |██████████                      | 706kB 2.8MB/s eta 0:00:01\r\u001b[K     |██████████▏                     | 716kB 2.8MB/s eta 0:00:01\r\u001b[K     |██████████▎                     | 727kB 2.8MB/s eta 0:00:01\r\u001b[K     |██████████▌                     | 737kB 2.8MB/s eta 0:00:01\r\u001b[K     |██████████▋                     | 747kB 2.8MB/s eta 0:00:01\r\u001b[K     |██████████▊                     | 757kB 2.8MB/s eta 0:00:01\r\u001b[K     |███████████                     | 768kB 2.8MB/s eta 0:00:01\r\u001b[K     |███████████                     | 778kB 2.8MB/s eta 0:00:01\r\u001b[K     |███████████▏                    | 788kB 2.8MB/s eta 0:00:01\r\u001b[K     |███████████▍                    | 798kB 2.8MB/s eta 0:00:01\r\u001b[K     |███████████▌                    | 808kB 2.8MB/s eta 0:00:01\r\u001b[K     |███████████▋                    | 819kB 2.8MB/s eta 0:00:01\r\u001b[K     |███████████▊                    | 829kB 2.8MB/s eta 0:00:01\r\u001b[K     |████████████                    | 839kB 2.8MB/s eta 0:00:01\r\u001b[K     |████████████                    | 849kB 2.8MB/s eta 0:00:01\r\u001b[K     |████████████▏                   | 860kB 2.8MB/s eta 0:00:01\r\u001b[K     |████████████▍                   | 870kB 2.8MB/s eta 0:00:01\r\u001b[K     |████████████▌                   | 880kB 2.8MB/s eta 0:00:01\r\u001b[K     |████████████▋                   | 890kB 2.8MB/s eta 0:00:01\r\u001b[K     |████████████▉                   | 901kB 2.8MB/s eta 0:00:01\r\u001b[K     |█████████████                   | 911kB 2.8MB/s eta 0:00:01\r\u001b[K     |█████████████                   | 921kB 2.8MB/s eta 0:00:01\r\u001b[K     |█████████████▎                  | 931kB 2.8MB/s eta 0:00:01\r\u001b[K     |█████████████▍                  | 942kB 2.8MB/s eta 0:00:01\r\u001b[K     |█████████████▌                  | 952kB 2.8MB/s eta 0:00:01\r\u001b[K     |█████████████▋                  | 962kB 2.8MB/s eta 0:00:01\r\u001b[K     |█████████████▉                  | 972kB 2.8MB/s eta 0:00:01\r\u001b[K     |██████████████                  | 983kB 2.8MB/s eta 0:00:01\r\u001b[K     |██████████████                  | 993kB 2.8MB/s eta 0:00:01\r\u001b[K     |██████████████▎                 | 1.0MB 2.8MB/s eta 0:00:01\r\u001b[K     |██████████████▍                 | 1.0MB 2.8MB/s eta 0:00:01\r\u001b[K     |██████████████▌                 | 1.0MB 2.8MB/s eta 0:00:01\r\u001b[K     |██████████████▊                 | 1.0MB 2.8MB/s eta 0:00:01\r\u001b[K     |██████████████▉                 | 1.0MB 2.8MB/s eta 0:00:01\r\u001b[K     |███████████████                 | 1.1MB 2.8MB/s eta 0:00:01\r\u001b[K     |███████████████▏                | 1.1MB 2.8MB/s eta 0:00:01\r\u001b[K     |███████████████▎                | 1.1MB 2.8MB/s eta 0:00:01\r\u001b[K     |███████████████▍                | 1.1MB 2.8MB/s eta 0:00:01\r\u001b[K     |███████████████▌                | 1.1MB 2.8MB/s eta 0:00:01\r\u001b[K     |███████████████▊                | 1.1MB 2.8MB/s eta 0:00:01\r\u001b[K     |███████████████▉                | 1.1MB 2.8MB/s eta 0:00:01\r\u001b[K     |████████████████                | 1.1MB 2.8MB/s eta 0:00:01\r\u001b[K     |████████████████▏               | 1.1MB 2.8MB/s eta 0:00:01\r\u001b[K     |████████████████▎               | 1.1MB 2.8MB/s eta 0:00:01\r\u001b[K     |████████████████▍               | 1.2MB 2.8MB/s eta 0:00:01\r\u001b[K     |████████████████▋               | 1.2MB 2.8MB/s eta 0:00:01\r\u001b[K     |████████████████▊               | 1.2MB 2.8MB/s eta 0:00:01\r\u001b[K     |████████████████▉               | 1.2MB 2.8MB/s eta 0:00:01\r\u001b[K     |█████████████████               | 1.2MB 2.8MB/s eta 0:00:01\r\u001b[K     |█████████████████▏              | 1.2MB 2.8MB/s eta 0:00:01\r\u001b[K     |█████████████████▎              | 1.2MB 2.8MB/s eta 0:00:01\r\u001b[K     |█████████████████▍              | 1.2MB 2.8MB/s eta 0:00:01\r\u001b[K     |█████████████████▋              | 1.2MB 2.8MB/s eta 0:00:01\r\u001b[K     |█████████████████▊              | 1.2MB 2.8MB/s eta 0:00:01\r\u001b[K     |█████████████████▉              | 1.3MB 2.8MB/s eta 0:00:01\r\u001b[K     |██████████████████              | 1.3MB 2.8MB/s eta 0:00:01\r\u001b[K     |██████████████████▏             | 1.3MB 2.8MB/s eta 0:00:01\r\u001b[K     |██████████████████▎             | 1.3MB 2.8MB/s eta 0:00:01\r\u001b[K     |██████████████████▌             | 1.3MB 2.8MB/s eta 0:00:01\r\u001b[K     |██████████████████▋             | 1.3MB 2.8MB/s eta 0:00:01\r\u001b[K     |██████████████████▊             | 1.3MB 2.8MB/s eta 0:00:01\r\u001b[K     |███████████████████             | 1.3MB 2.8MB/s eta 0:00:01\r\u001b[K     |███████████████████             | 1.3MB 2.8MB/s eta 0:00:01\r\u001b[K     |███████████████████▏            | 1.4MB 2.8MB/s eta 0:00:01\r\u001b[K     |███████████████████▎            | 1.4MB 2.8MB/s eta 0:00:01\r\u001b[K     |███████████████████▌            | 1.4MB 2.8MB/s eta 0:00:01\r\u001b[K     |███████████████████▋            | 1.4MB 2.8MB/s eta 0:00:01\r\u001b[K     |███████████████████▊            | 1.4MB 2.8MB/s eta 0:00:01\r\u001b[K     |████████████████████            | 1.4MB 2.8MB/s eta 0:00:01\r\u001b[K     |████████████████████            | 1.4MB 2.8MB/s eta 0:00:01\r\u001b[K     |████████████████████▏           | 1.4MB 2.8MB/s eta 0:00:01\r\u001b[K     |████████████████████▍           | 1.4MB 2.8MB/s eta 0:00:01\r\u001b[K     |████████████████████▌           | 1.4MB 2.8MB/s eta 0:00:01\r\u001b[K     |████████████████████▋           | 1.5MB 2.8MB/s eta 0:00:01\r\u001b[K     |████████████████████▉           | 1.5MB 2.8MB/s eta 0:00:01\r\u001b[K     |█████████████████████           | 1.5MB 2.8MB/s eta 0:00:01\r\u001b[K     |█████████████████████           | 1.5MB 2.8MB/s eta 0:00:01\r\u001b[K     |█████████████████████▏          | 1.5MB 2.8MB/s eta 0:00:01\r\u001b[K     |█████████████████████▍          | 1.5MB 2.8MB/s eta 0:00:01\r\u001b[K     |█████████████████████▌          | 1.5MB 2.8MB/s eta 0:00:01\r\u001b[K     |█████████████████████▋          | 1.5MB 2.8MB/s eta 0:00:01\r\u001b[K     |█████████████████████▉          | 1.5MB 2.8MB/s eta 0:00:01\r\u001b[K     |██████████████████████          | 1.5MB 2.8MB/s eta 0:00:01\r\u001b[K     |██████████████████████          | 1.6MB 2.8MB/s eta 0:00:01\r\u001b[K     |██████████████████████▎         | 1.6MB 2.8MB/s eta 0:00:01\r\u001b[K     |██████████████████████▍         | 1.6MB 2.8MB/s eta 0:00:01\r\u001b[K     |██████████████████████▌         | 1.6MB 2.8MB/s eta 0:00:01\r\u001b[K     |██████████████████████▊         | 1.6MB 2.8MB/s eta 0:00:01\r\u001b[K     |██████████████████████▉         | 1.6MB 2.8MB/s eta 0:00:01\r\u001b[K     |███████████████████████         | 1.6MB 2.8MB/s eta 0:00:01\r\u001b[K     |███████████████████████         | 1.6MB 2.8MB/s eta 0:00:01\r\u001b[K     |███████████████████████▎        | 1.6MB 2.8MB/s eta 0:00:01\r\u001b[K     |███████████████████████▍        | 1.6MB 2.8MB/s eta 0:00:01\r\u001b[K     |███████████████████████▌        | 1.7MB 2.8MB/s eta 0:00:01\r\u001b[K     |███████████████████████▊        | 1.7MB 2.8MB/s eta 0:00:01\r\u001b[K     |███████████████████████▉        | 1.7MB 2.8MB/s eta 0:00:01\r\u001b[K     |████████████████████████        | 1.7MB 2.8MB/s eta 0:00:01\r\u001b[K     |████████████████████████▏       | 1.7MB 2.8MB/s eta 0:00:01\r\u001b[K     |████████████████████████▎       | 1.7MB 2.8MB/s eta 0:00:01\r\u001b[K     |████████████████████████▍       | 1.7MB 2.8MB/s eta 0:00:01\r\u001b[K     |████████████████████████▋       | 1.7MB 2.8MB/s eta 0:00:01\r\u001b[K     |████████████████████████▊       | 1.7MB 2.8MB/s eta 0:00:01\r\u001b[K     |████████████████████████▉       | 1.8MB 2.8MB/s eta 0:00:01\r\u001b[K     |█████████████████████████       | 1.8MB 2.8MB/s eta 0:00:01\r\u001b[K     |█████████████████████████▏      | 1.8MB 2.8MB/s eta 0:00:01\r\u001b[K     |█████████████████████████▎      | 1.8MB 2.8MB/s eta 0:00:01\r\u001b[K     |█████████████████████████▍      | 1.8MB 2.8MB/s eta 0:00:01\r\u001b[K     |█████████████████████████▋      | 1.8MB 2.8MB/s eta 0:00:01\r\u001b[K     |█████████████████████████▊      | 1.8MB 2.8MB/s eta 0:00:01\r\u001b[K     |█████████████████████████▉      | 1.8MB 2.8MB/s eta 0:00:01\r\u001b[K     |██████████████████████████      | 1.8MB 2.8MB/s eta 0:00:01\r\u001b[K     |██████████████████████████▏     | 1.8MB 2.8MB/s eta 0:00:01\r\u001b[K     |██████████████████████████▎     | 1.9MB 2.8MB/s eta 0:00:01\r\u001b[K     |██████████████████████████▌     | 1.9MB 2.8MB/s eta 0:00:01\r\u001b[K     |██████████████████████████▋     | 1.9MB 2.8MB/s eta 0:00:01\r\u001b[K     |██████████████████████████▊     | 1.9MB 2.8MB/s eta 0:00:01\r\u001b[K     |██████████████████████████▉     | 1.9MB 2.8MB/s eta 0:00:01\r\u001b[K     |███████████████████████████     | 1.9MB 2.8MB/s eta 0:00:01\r\u001b[K     |███████████████████████████▏    | 1.9MB 2.8MB/s eta 0:00:01\r\u001b[K     |███████████████████████████▎    | 1.9MB 2.8MB/s eta 0:00:01\r\u001b[K     |███████████████████████████▌    | 1.9MB 2.8MB/s eta 0:00:01\r\u001b[K     |███████████████████████████▋    | 1.9MB 2.8MB/s eta 0:00:01\r\u001b[K     |███████████████████████████▊    | 2.0MB 2.8MB/s eta 0:00:01\r\u001b[K     |████████████████████████████    | 2.0MB 2.8MB/s eta 0:00:01\r\u001b[K     |████████████████████████████    | 2.0MB 2.8MB/s eta 0:00:01\r\u001b[K     |████████████████████████████▏   | 2.0MB 2.8MB/s eta 0:00:01\r\u001b[K     |████████████████████████████▍   | 2.0MB 2.8MB/s eta 0:00:01\r\u001b[K     |████████████████████████████▌   | 2.0MB 2.8MB/s eta 0:00:01\r\u001b[K     |████████████████████████████▋   | 2.0MB 2.8MB/s eta 0:00:01\r\u001b[K     |████████████████████████████▊   | 2.0MB 2.8MB/s eta 0:00:01\r\u001b[K     |█████████████████████████████   | 2.0MB 2.8MB/s eta 0:00:01\r\u001b[K     |█████████████████████████████   | 2.0MB 2.8MB/s eta 0:00:01\r\u001b[K     |█████████████████████████████▏  | 2.1MB 2.8MB/s eta 0:00:01\r\u001b[K     |█████████████████████████████▍  | 2.1MB 2.8MB/s eta 0:00:01\r\u001b[K     |█████████████████████████████▌  | 2.1MB 2.8MB/s eta 0:00:01\r\u001b[K     |█████████████████████████████▋  | 2.1MB 2.8MB/s eta 0:00:01\r\u001b[K     |█████████████████████████████▉  | 2.1MB 2.8MB/s eta 0:00:01\r\u001b[K     |██████████████████████████████  | 2.1MB 2.8MB/s eta 0:00:01\r\u001b[K     |██████████████████████████████  | 2.1MB 2.8MB/s eta 0:00:01\r\u001b[K     |██████████████████████████████▎ | 2.1MB 2.8MB/s eta 0:00:01\r\u001b[K     |██████████████████████████████▍ | 2.1MB 2.8MB/s eta 0:00:01\r\u001b[K     |██████████████████████████████▌ | 2.2MB 2.8MB/s eta 0:00:01\r\u001b[K     |██████████████████████████████▋ | 2.2MB 2.8MB/s eta 0:00:01\r\u001b[K     |██████████████████████████████▉ | 2.2MB 2.8MB/s eta 0:00:01\r\u001b[K     |███████████████████████████████ | 2.2MB 2.8MB/s eta 0:00:01\r\u001b[K     |███████████████████████████████ | 2.2MB 2.8MB/s eta 0:00:01\r\u001b[K     |███████████████████████████████▎| 2.2MB 2.8MB/s eta 0:00:01\r\u001b[K     |███████████████████████████████▍| 2.2MB 2.8MB/s eta 0:00:01\r\u001b[K     |███████████████████████████████▌| 2.2MB 2.8MB/s eta 0:00:01\r\u001b[K     |███████████████████████████████▊| 2.2MB 2.8MB/s eta 0:00:01\r\u001b[K     |███████████████████████████████▉| 2.2MB 2.8MB/s eta 0:00:01\r\u001b[K     |████████████████████████████████| 2.3MB 2.8MB/s eta 0:00:01\r\u001b[K     |████████████████████████████████| 2.3MB 2.8MB/s \n",
            "\u001b[?25hRequirement already satisfied: scipy in /usr/local/lib/python3.6/dist-packages (from scikit-video) (1.4.1)\n",
            "Requirement already satisfied: pillow in /usr/local/lib/python3.6/dist-packages (from scikit-video) (7.0.0)\n",
            "Requirement already satisfied: numpy in /usr/local/lib/python3.6/dist-packages (from scikit-video) (1.18.5)\n",
            "Installing collected packages: scikit-video\n",
            "Successfully installed scikit-video-1.1.11\n"
          ],
          "name": "stdout"
        }
      ]
    },
    {
      "cell_type": "code",
      "metadata": {
        "id": "QU10pPCD23xV",
        "colab_type": "code",
        "colab": {
          "base_uri": "https://localhost:8080/",
          "height": 34
        },
        "outputId": "24cc9986-c998-4896-ff8d-3fee115ccdde"
      },
      "source": [
        "from __future__ import absolute_import\n",
        "import cv2\n",
        "import numpy as np \n",
        "import pandas\n",
        "from imutils.video import FPS \n",
        "import pandas as pd\n",
        "import os\n",
        "from sklearn.model_selection import train_test_split\n",
        "from sklearn.datasets import load_files\n",
        "import random\n",
        "import shutil\n",
        "#!pip install scikit-video\n",
        "import numpy as np\n",
        "from skvideo.io import FFmpegReader, ffprobe\n",
        "from skvideo.utils import rgb2gray\n",
        "from PIL import Image\n",
        "from keras.preprocessing import image\n",
        "from tqdm import tqdm\n",
        "import matplotlib.pyplot as plt\n",
        "from keras.utils import to_categorical\n",
        "from keras import backend as K\n",
        "from keras import initializers\n",
        "from keras import regularizers\n",
        "from keras import constraints\n",
        "from keras import layers\n",
        "from keras.engine import InputSpec\n",
        "from keras.utils import conv_utils\n",
        "from keras.legacy.interfaces import conv3d_args_preprocessor, generate_legacy_interface\n",
        "from keras.layers import Conv3D\n",
        "from keras.backend.tensorflow_backend import _preprocess_padding, _preprocess_conv3d_input\n",
        "\n",
        "import tensorflow as tf\n",
        "from keras.models import Sequential\n",
        "from keras.layers import Conv3D, MaxPooling3D, GlobalAveragePooling3D\n",
        "from keras.layers.core import Dense\n",
        "import tensorflow.keras.backend as K\n",
        "from keras.callbacks import ModelCheckpoint\n",
        "from keras.layers.core import Dropout\n",
        "from sklearn.metrics import classification_report"
      ],
      "execution_count": 3,
      "outputs": [
        {
          "output_type": "stream",
          "text": [
            "Using TensorFlow backend.\n"
          ],
          "name": "stderr"
        }
      ]
    },
    {
      "cell_type": "code",
      "metadata": {
        "id": "xE21hL8O5TkT",
        "colab_type": "code",
        "colab": {}
      },
      "source": [
        "\n",
        "def depthwise_conv3d_args_preprocessor(args, kwargs):\n",
        "    converted = []\n",
        "\n",
        "    if 'init' in kwargs:\n",
        "        init = kwargs.pop('init')\n",
        "        kwargs['depthwise_initializer'] = init\n",
        "        converted.append(('init', 'depthwise_initializer'))\n",
        "\n",
        "    args, kwargs, _converted = conv3d_args_preprocessor(args, kwargs)\n",
        "    return args, kwargs, converted + _converted\n",
        "\n",
        "    legacy_depthwise_conv3d_support = generate_legacy_interface(\n",
        "    allowed_positional_args=['filters', 'kernel_size'],\n",
        "    conversions=[('nb_filter', 'filters'),\n",
        "                 ('subsample', 'strides'),\n",
        "                 ('border_mode', 'padding'),\n",
        "                 ('dim_ordering', 'data_format'),\n",
        "                 ('b_regularizer', 'bias_regularizer'),\n",
        "                 ('b_constraint', 'bias_constraint'),\n",
        "                 ('bias', 'use_bias')],\n",
        "    value_conversions={'dim_ordering': {'tf': 'channels_last',\n",
        "                                        'th': 'channels_first',\n",
        "                                        'default': None}},\n",
        "    preprocessor=depthwise_conv3d_args_preprocessor)\n",
        "\n",
        "\n",
        "class DepthwiseConv3D(Conv3D):\n",
        "    \"\"\"Depthwise 3D convolution.\n",
        "    Depth-wise part of separable convolutions consist in performing\n",
        "    just the first step/operation\n",
        "    (which acts on each input channel separately).\n",
        "    It does not perform the pointwise convolution (second step).\n",
        "    The `depth_multiplier` argument controls how many\n",
        "    output channels are generated per input channel in the depthwise step.\n",
        "    # Arguments\n",
        "        kernel_size: An integer or tuple/list of 3 integers, specifying the\n",
        "            depth, width and height of the 3D convolution window.\n",
        "            Can be a single integer to specify the same value for\n",
        "            all spatial dimensions.\n",
        "        strides: An integer or tuple/list of 3 integers,\n",
        "            specifying the strides of the convolution along the depth, width and height.\n",
        "            Can be a single integer to specify the same value for\n",
        "            all spatial dimensions.\n",
        "        padding: one of `\"valid\"` or `\"same\"` (case-insensitive).\n",
        "        depth_multiplier: The number of depthwise convolution output channels\n",
        "            for each input channel.\n",
        "            The total number of depthwise convolution output\n",
        "            channels will be equal to `filterss_in * depth_multiplier`.\n",
        "        groups: The depth size of the convolution (as a variant of the original Depthwise conv)\n",
        "        data_format: A string,\n",
        "            one of `channels_last` (default) or `channels_first`.\n",
        "            The ordering of the dimensions in the inputs.\n",
        "            `channels_last` corresponds to inputs with shape\n",
        "            `(batch, height, width, channels)` while `channels_first`\n",
        "            corresponds to inputs with shape\n",
        "            `(batch, channels, height, width)`.\n",
        "            It defaults to the `image_data_format` value found in your\n",
        "            Keras config file at `~/.keras/keras.json`.\n",
        "            If you never set it, then it will be \"channels_last\".\n",
        "        activation: Activation function to use\n",
        "            (see [activations](../activations.md)).\n",
        "            If you don't specify anything, no activation is applied\n",
        "            (ie. \"linear\" activation: `a(x) = x`).\n",
        "        use_bias: Boolean, whether the layer uses a bias vector.\n",
        "        depthwise_initializer: Initializer for the depthwise kernel matrix\n",
        "            (see [initializers](../initializers.md)).\n",
        "        bias_initializer: Initializer for the bias vector\n",
        "            (see [initializers](../initializers.md)).\n",
        "        depthwise_regularizer: Regularizer function applied to\n",
        "            the depthwise kernel matrix\n",
        "            (see [regularizer](../regularizers.md)).\n",
        "        bias_regularizer: Regularizer function applied to the bias vector\n",
        "            (see [regularizer](../regularizers.md)).\n",
        "        dialation_rate: List of ints.\n",
        "                        Defines the dilation factor for each dimension in the\n",
        "                        input. Defaults to (1,1,1)\n",
        "        activity_regularizer: Regularizer function applied to\n",
        "            the output of the layer (its \"activation\").\n",
        "            (see [regularizer](../regularizers.md)).\n",
        "        depthwise_constraint: Constraint function applied to\n",
        "            the depthwise kernel matrix\n",
        "            (see [constraints](../constraints.md)).\n",
        "        bias_constraint: Constraint function applied to the bias vector\n",
        "            (see [constraints](../constraints.md)).\n",
        "    # Input shape\n",
        "        5D tensor with shape:\n",
        "        `(batch, depth, channels, rows, cols)` if data_format='channels_first'\n",
        "        or 5D tensor with shape:\n",
        "        `(batch, depth, rows, cols, channels)` if data_format='channels_last'.\n",
        "    # Output shape\n",
        "        5D tensor with shape:\n",
        "        `(batch, filters * depth, new_depth, new_rows, new_cols)` if data_format='channels_first'\n",
        "        or 4D tensor with shape:\n",
        "        `(batch, new_depth, new_rows, new_cols, filters * depth)` if data_format='channels_last'.\n",
        "        `rows` and `cols` values might have changed due to padding.\n",
        "    \"\"\"\n",
        "\n",
        "    #@legacy_depthwise_conv3d_support\n",
        "    def __init__(self,\n",
        "                 kernel_size,\n",
        "                 strides=(1, 1, 1),\n",
        "                 padding='valid',\n",
        "                 depth_multiplier=1,\n",
        "                 groups=None,\n",
        "                 data_format=None,\n",
        "                 activation=None,\n",
        "                 use_bias=True,\n",
        "                 depthwise_initializer='glorot_uniform',\n",
        "                 bias_initializer='zeros',\n",
        "                 dilation_rate = (1, 1, 1),\n",
        "                 depthwise_regularizer=None,\n",
        "                 bias_regularizer=None,\n",
        "                 activity_regularizer=None,\n",
        "                 depthwise_constraint=None,\n",
        "                 bias_constraint=None,\n",
        "                 **kwargs):\n",
        "        super(DepthwiseConv3D, self).__init__(\n",
        "            filters=None,\n",
        "            kernel_size=kernel_size,\n",
        "            strides=strides,\n",
        "            padding=padding,\n",
        "            data_format=data_format,\n",
        "            activation=activation,\n",
        "            use_bias=use_bias,\n",
        "            bias_regularizer=bias_regularizer,\n",
        "            dilation_rate=dilation_rate,\n",
        "            activity_regularizer=activity_regularizer,\n",
        "            bias_constraint=bias_constraint,\n",
        "            **kwargs)\n",
        "        self.depth_multiplier = depth_multiplier\n",
        "        self.groups = groups\n",
        "        self.depthwise_initializer = initializers.get(depthwise_initializer)\n",
        "        self.depthwise_regularizer = regularizers.get(depthwise_regularizer)\n",
        "        self.depthwise_constraint = constraints.get(depthwise_constraint)\n",
        "        self.bias_initializer = initializers.get(bias_initializer)\n",
        "        self.dilation_rate = dilation_rate\n",
        "        self._padding = _preprocess_padding(self.padding)\n",
        "        self._strides = (1,) + self.strides + (1,)\n",
        "        self._data_format = \"NDHWC\"\n",
        "        self.input_dim = None\n",
        "\n",
        "    def build(self, input_shape):\n",
        "        if len(input_shape) < 5:\n",
        "            raise ValueError('Inputs to `DepthwiseConv3D` should have rank 5. '\n",
        "                             'Received input shape:', str(input_shape))\n",
        "        if self.data_format == 'channels_first':\n",
        "            channel_axis = 1\n",
        "        else:\n",
        "            channel_axis = -1\n",
        "        if input_shape[channel_axis] is None:\n",
        "            raise ValueError('The channel dimension of the inputs to '\n",
        "                             '`DepthwiseConv3D` '\n",
        "                             'should be defined. Found `None`.')\n",
        "        self.input_dim = int(input_shape[channel_axis])\n",
        "\n",
        "        if self.groups is None:\n",
        "            self.groups = self.input_dim\n",
        "\n",
        "        if self.groups > self.input_dim:\n",
        "            raise ValueError('The number of groups cannot exceed the number of channels')\n",
        "\n",
        "        if self.input_dim % self.groups != 0:\n",
        "            raise ValueError('Warning! The channels dimension is not divisible by the group size chosen')\n",
        "\n",
        "        depthwise_kernel_shape = (self.kernel_size[0],\n",
        "                                  self.kernel_size[1],\n",
        "                                  self.kernel_size[2],\n",
        "                                  self.input_dim,\n",
        "                                  self.depth_multiplier)\n",
        "\n",
        "        self.depthwise_kernel = self.add_weight(\n",
        "            shape=depthwise_kernel_shape,\n",
        "            initializer=self.depthwise_initializer,\n",
        "            name='depthwise_kernel',\n",
        "            regularizer=self.depthwise_regularizer,\n",
        "            constraint=self.depthwise_constraint)\n",
        "\n",
        "        if self.use_bias:\n",
        "            self.bias = self.add_weight(shape=(self.groups * self.depth_multiplier,),\n",
        "                                        initializer=self.bias_initializer,\n",
        "                                        name='bias',\n",
        "                                        regularizer=self.bias_regularizer,\n",
        "                                        constraint=self.bias_constraint)\n",
        "        else:\n",
        "            self.bias = None\n",
        "        # Set input spec.\n",
        "        self.input_spec = InputSpec(ndim=5, axes={channel_axis: self.input_dim})\n",
        "        self.built = True\n",
        "\n",
        "    def call(self, inputs, training=None):\n",
        "        inputs = _preprocess_conv3d_input(inputs, self.data_format)\n",
        "\n",
        "        if self.data_format == 'channels_last':\n",
        "            dilation = (1,) + self.dilation_rate + (1,)\n",
        "        else:\n",
        "            dilation = self.dilation_rate + (1,) + (1,)\n",
        "\n",
        "        if self._data_format == 'NCDHW':\n",
        "            outputs = tf.concat(\n",
        "                [tf.nn.conv3d(inputs[0][:, i:i+self.input_dim//self.groups, :, :, :], self.depthwise_kernel[:, :, :, i:i+self.input_dim//self.groups, :],\n",
        "                    strides=self._strides,\n",
        "                    padding=self._padding,\n",
        "                    dilations=dilation,\n",
        "                    data_format=self._data_format) for i in range(0, self.input_dim, self.input_dim//self.groups)], axis=1)\n",
        "\n",
        "        else:\n",
        "            outputs = tf.concat(\n",
        "                [tf.nn.conv3d(inputs[0][:, :, :, :, i:i+self.input_dim//self.groups], self.depthwise_kernel[:, :, :, i:i+self.input_dim//self.groups, :],\n",
        "                    strides=self._strides,\n",
        "                    padding=self._padding,\n",
        "                    dilations=dilation,\n",
        "                    data_format=self._data_format) for i in range(0, self.input_dim, self.input_dim//self.groups)], axis=-1)\n",
        "\n",
        "        if self.bias is not None:\n",
        "            outputs = K.bias_add(\n",
        "                outputs,\n",
        "                self.bias,\n",
        "                data_format=self.data_format)\n",
        "\n",
        "        if self.activation is not None:\n",
        "            return self.activation(outputs)\n",
        "\n",
        "        return outputs\n",
        "\n",
        "    def compute_output_shape(self, input_shape):\n",
        "        if self.data_format == 'channels_first':\n",
        "            depth = input_shape[2]\n",
        "            rows = input_shape[3]\n",
        "            cols = input_shape[4]\n",
        "            out_filters = self.groups * self.depth_multiplier\n",
        "        elif self.data_format == 'channels_last':\n",
        "            depth = input_shape[1]\n",
        "            rows = input_shape[2]\n",
        "            cols = input_shape[3]\n",
        "            out_filters = self.groups * self.depth_multiplier\n",
        "\n",
        "        depth = conv_utils.conv_output_length(depth, self.kernel_size[0],\n",
        "                                             self.padding,\n",
        "                                             self.strides[0])\n",
        "\n",
        "        rows = conv_utils.conv_output_length(rows, self.kernel_size[1],\n",
        "                                             self.padding,\n",
        "                                             self.strides[1])\n",
        "\n",
        "        cols = conv_utils.conv_output_length(cols, self.kernel_size[2],\n",
        "                                             self.padding,\n",
        "                                             self.strides[2])\n",
        "\n",
        "        if self.data_format == 'channels_first':\n",
        "            return (input_shape[0], out_filters, depth, rows, cols)\n",
        "\n",
        "        elif self.data_format == 'channels_last':\n",
        "            return (input_shape[0], depth, rows, cols, out_filters)\n",
        "\n",
        "    def get_config(self):\n",
        "        config = super(DepthwiseConv3D, self).get_config()\n",
        "        config.pop('filters')\n",
        "        config.pop('kernel_initializer')\n",
        "        config.pop('kernel_regularizer')\n",
        "        config.pop('kernel_constraint')\n",
        "        config['depth_multiplier'] = self.depth_multiplier\n",
        "        config['depthwise_initializer'] = initializers.serialize(self.depthwise_initializer)\n",
        "        config['depthwise_regularizer'] = regularizers.serialize(self.depthwise_regularizer)\n",
        "        config['depthwise_constraint'] = constraints.serialize(self.depthwise_constraint)\n",
        "        return config\n",
        "\n",
        "DepthwiseConvolution3D = DepthwiseConv3D"
      ],
      "execution_count": 4,
      "outputs": []
    },
    {
      "cell_type": "code",
      "metadata": {
        "id": "T00w8SdxMwf8",
        "colab_type": "code",
        "colab": {}
      },
      "source": [
        "def model_depthwise(video):\n",
        "  model_d = Sequential()\n",
        "\n",
        "  # Adding Alternate convolutional and pooling layers\n",
        "  model_d.add(DepthwiseConv3D( kernel_size=(10, 3, 3),depth_multiplier=2, strides=(1, 1, 1), padding='same', activation='relu', \n",
        "                  input_shape=(29,128,128,1)))\n",
        "  model_d.add(MaxPooling3D(pool_size=2, strides=(1, 2, 2), padding='same'))\n",
        "\n",
        "  model_d.add(DepthwiseConv3D( depth_multiplier=4,kernel_size=(5, 3, 3), strides=(3, 1, 1), padding='valid', activation='relu'))\n",
        "  model_d.add(MaxPooling3D(pool_size=2, strides=(1, 2, 2), padding='same'))\n",
        "\n",
        "  model_d.add(DepthwiseConv3D(depth_multiplier=8, kernel_size=(5, 3, 3), strides=(3, 1, 1), padding='valid', activation='relu'))\n",
        "  model_d.add(MaxPooling3D(pool_size=2, strides=(1, 2, 2), padding='same'))\n",
        "\n",
        "  # A global average pooling layer to get a 1-d vector\n",
        "  # The vector will have a depth (same as number of elements in the vector) of 256\n",
        "  model_d.add(GlobalAveragePooling3D())\n",
        "\n",
        "\n",
        "  # The Global average pooling layer is followed by a fully-connected neural network, with one hidden and one output layer\n",
        "\n",
        "  # Hidden Layer\n",
        "  model_d.add(Dense(32, activation='relu'))\n",
        "\n",
        "  # Output layer\n",
        "  model_d.add(Dense(2, activation='softmax'))\n",
        "\n",
        "  #model_d.summary()\n",
        "  model_d.compile(loss='categorical_crossentropy', optimizer='adam', metrics=['accuracy'])\n",
        "  model_d.load_weights('/content/Model_depthwise_1_Assault.weights.best.hdf5')\n",
        "  y=model_d.predict(video)\n",
        "  y=np.argmax(y[0])\n",
        "  return y\n",
        "\n",
        "\n",
        "def model(video):\n",
        "  model = Sequential()\n",
        "\n",
        "  # Adding Alternate convolutional and pooling layers\n",
        "  model.add(Conv3D(filters=16, kernel_size=(10, 3, 3), strides=(1, 1, 1), padding='same', activation='relu', \n",
        "                  input_shape=(29,128,128,1)))\n",
        "  model.add(MaxPooling3D(pool_size=2, strides=(1, 2, 2), padding='same'))\n",
        "\n",
        "  model.add(Conv3D(filters=64, kernel_size=(5, 3, 3), strides=(3, 1, 1), padding='valid', activation='relu'))\n",
        "  model.add(MaxPooling3D(pool_size=2, strides=(1, 2, 2), padding='same'))\n",
        "\n",
        "  model.add(Conv3D(filters=256, kernel_size=(5, 3, 3), strides=(3, 1, 1), padding='valid', activation='relu'))\n",
        "  model.add(MaxPooling3D(pool_size=2, strides=(1, 2, 2), padding='same'))\n",
        "\n",
        "  # A global average pooling layer to get a 1-d vector\n",
        "  # The vector will have a depth (same as number of elements in the vector) of 256\n",
        "  model.add(GlobalAveragePooling3D())\n",
        "\n",
        "  # The Global average pooling layer is followed by a fully-connected neural network, with one hidden and one output layer\n",
        "\n",
        "  # Hidden Layer\n",
        "  model.add(Dense(32, activation='relu'))\n",
        "\n",
        "  # Output layer\n",
        "  model.add(Dense(2, activation='softmax'))\n",
        "\n",
        "  #model.summary()\n",
        "  model.compile(loss='categorical_crossentropy', optimizer='adam', metrics=['accuracy'])\n",
        "  model.load_weights('/content/gdrive/My Drive/Security Dataset/Shooting/weights/Model_shooting_1.weights.best.hdf5')\n",
        "  k=model.predict(video)\n",
        "  prob=model.predict_proba(video)\n",
        "  y=np.argmax(k[0])\n",
        "  #a=np.argmax(k, axis=1)\n",
        "  return y,prob\n"
      ],
      "execution_count": 10,
      "outputs": []
    },
    {
      "cell_type": "code",
      "metadata": {
        "id": "MA4Ydv4oG5zp",
        "colab_type": "code",
        "colab": {
          "base_uri": "https://localhost:8080/",
          "height": 584
        },
        "outputId": "e1e67bdd-f210-4ec9-8d45-c72400c77c00"
      },
      "source": [
        "\n",
        "#import PILasOPENCV as ImageFont\n",
        "#from utils import Videos\n",
        "#font = cv2.FONT_HERSHEY_SIMPLEX \n",
        "font =cv2.FONT_HERSHEY_COMPLEX\n",
        "extract_frames=\"middle\"\n",
        "writer=None\n",
        "def _process_video(video):\n",
        "    \"\"\"\n",
        "    Parameters:\n",
        "        video (Numpy.ndarray):\n",
        "            Shape = (<No. of frames>, <height>, <width>, <channels>)\n",
        "\n",
        "            Video whose frames are to be extracted\n",
        "\n",
        "    Returns:\n",
        "        Numpy.ndarray\n",
        "            A tensor (processed video) with shape (<`max_frames`>, <height>, <width>, <channels>)\n",
        "    \"\"\"\n",
        "\n",
        "    total_frames = video.shape[0]\n",
        "    max_frames=30\n",
        "    if max_frames <= total_frames:\n",
        "\n",
        "        if extract_frames == 'first':\n",
        "            video = video[:max_frames]\n",
        "        elif extract_frames == 'last':\n",
        "            video = video[(total_frames - max_frames):]\n",
        "        elif extract_frames == 'middle':\n",
        "            # No. of frames to remove from the front\n",
        "            front = ((total_frames - max_frames) // 2) + 1\n",
        "            video = video[front:(front + max_frames)]\n",
        "        else:\n",
        "            raise ValueError('Invalid value of \\'extract_frames\\'')\n",
        "\n",
        "    else:\n",
        "        raise IndexError(\n",
        "            'Required number of frames is greater than the total number of frames in the video')\n",
        "\n",
        "    return video\n",
        "\n",
        "\n",
        "def read_video(framelist):\n",
        "        \"\"\"\n",
        "        Parameters:\n",
        "            path (str): Required\n",
        "                Path of the video to be read\n",
        "\n",
        "        Returns:\n",
        "            Numpy.ndarray\n",
        "                A 5-d tensor with shape (1, <No. of frames>, <height>, <width>, <channels>)\n",
        "        \"\"\"\n",
        "\n",
        "        #cap = FFmpegReader(filename=path)\n",
        "        list_of_frames = []\n",
        "        nosfps=30\n",
        "        target_size=(128,128)\n",
        "        #self.fps = int(cap.inputfps)                  # Frame Rate\n",
        "        print(len(framelist))\n",
        "        for i in range(len(framelist)):\n",
        "        \tframe=framelist[i]\n",
        "        \ttemp_image = image.array_to_img(frame)\n",
        "        \tframe = image.img_to_array(temp_image.resize(target_size,Image.ANTIALIAS)).astype('uint8')\n",
        "        \tlist_of_frames.append(frame)\n",
        "\n",
        "        # Shape of each frame -> (<height>, <width>, 3)\n",
        "        \n",
        "\n",
        "        temp_video = np.stack(list_of_frames)\n",
        "        temp_video = rgb2gray(temp_video)\n",
        "        #temp_video =_process_video(video=temp_video)\n",
        "\n",
        "        return np.expand_dims(temp_video, axis=0)\n",
        "\n",
        "\n",
        "\n",
        "cap = cv2.VideoCapture(\"/content/gdrive/My Drive/Security Dataset/Written USE CASES/shooting_object.avi\")\n",
        "fps=FPS().start()\n",
        "l=[]\n",
        "count=0\n",
        "global sample\n",
        "wid=cap.get(3)\n",
        "hig=cap.get(4)\n",
        "fourcc2 = cv2.VideoWriter_fourcc(*\"XVID\")\n",
        "writer2 = cv2.VideoWriter(\"/content/video/explosion_infer.avi\", fourcc2, 30,(int(wid), int(hig)), True)\n",
        "while cap.isOpened():\n",
        "  ret, frame= cap.read()\n",
        "  if ret== True:\n",
        "    #frame=cv2.cvtColor(frame,cv2.COLOR_BGR2GRAY)\n",
        "    #frame=cv2.resize(frame,(128,128))\n",
        "    l.append(frame)\n",
        "    #cv2.imshow(\"frame\", frame)\n",
        "    \n",
        "    if writer == None :\n",
        "        fourcc = cv2.VideoWriter_fourcc(*\"XVID\")\n",
        "        writer = cv2.VideoWriter(\"/content/shooting_final.avi\", fourcc, 30,(frame.shape[1], frame.shape[0]), True)\n",
        "        \n",
        "    if len(l)>=29:\n",
        "      sample=read_video(l)\n",
        "      y,num=model(sample)\n",
        "      #print(model(sample))\n",
        "      s=\"\"\n",
        "      if y == 0:\n",
        "        s=\"Normal\"\n",
        "      else:\n",
        "        s=\"Shooting\"\n",
        "      \n",
        "      \n",
        "      \n",
        "      for i in l:\n",
        "        if s=='Shooting':\n",
        "          i = cv2.putText(i,\"SECURITY THREAT : Shooting\",(10,50), font, 0.5, (0,0,255), 1,cv2.LINE_AA)\n",
        "          i = cv2.putText(i,\"Assault Probability:\"+str(format(num[0][1],\".8f\")),(10,65), font, 0.5, (0,0,255), 1,cv2.LINE_AA)\n",
        "          i = cv2.putText(i,\"Weapon Detected : Hand Pistol\",(10,80), font, 0.5, (0,255,255), 1,cv2.LINE_AA)\n",
        "          #frame = cv2.putText(frame,\"People in the Frame:\",(10,95), font, 0.5, (0,255,255), 1,cv2.LINE_AA)\n",
        "          i = cv2.putText(i,\"Crowd Analysis: Less Dense \" , (10,110),font, 0.5, (0,255,255), 1,cv2.LINE_AA)\n",
        "          writer2.write(i)\n",
        "          cv2.imwrite(\"/content/infer_frame/frame_\"+str(i)+\".jpg\",frame)\n",
        "          writer.write(i)\n",
        "        else:\n",
        "          i = cv2.putText(i,\"SECURITY THREAT : NORMAL\",(10,50), font, 0.5, (0,255,255), 1,cv2.LINE_AA)\n",
        "          i = cv2.putText(i,\"Normal Probability:\"+str(format(num[0][0],\".8f\")),(10,65), font, 0.5, (0,255,255), 1,cv2.LINE_AA)\n",
        "          i = cv2.putText(i,\"Weapon Detected : Hand Pistol\",(10,80), font, 0.5, (0,255,255), 1,cv2.LINE_AA)\n",
        "          #frame = cv2.putText(frame,\"People in the Frame:\",(10,95), font, 0.5, (0,255,255), 1,cv2.LINE_AA)\n",
        "          i = cv2.putText(i,\"Crowd Analysis: Less Dense\" , (10,110),font, 0.5, (0,255,255), 1,cv2.LINE_AA)\n",
        "          \n",
        "          \n",
        "          \n",
        "          writer.write(i)\n",
        "      \n",
        "      count+=1\n",
        "      print(\"Passing :\",count)\n",
        "      print(s)\n",
        "      print(\"Shooting Probability :\",format(num[0][1],\".8f\"))\n",
        "      print(\"Normal Probability :\",format(num[0][0],\".8f\")) \n",
        "      l=[]\n",
        "      fps.update()\n",
        "    \n",
        "  if cv2.waitKey(1) & 0xFF == ord('q'):\n",
        "    break\n",
        "\n",
        "fps.stop()\n",
        "print(fps.fps())\n",
        "writer.release()\n",
        "writer2.release()\n",
        "cap.release()\n",
        "cv2.destroyAllWindows()"
      ],
      "execution_count": 12,
      "outputs": [
        {
          "output_type": "stream",
          "text": [
            "29\n",
            "Passing : 1\n",
            "Shooting\n",
            "Shooting Probability : 1.00000000\n",
            "Normal Probability : 0.00000000\n",
            "29\n",
            "Passing : 2\n",
            "Normal\n",
            "Shooting Probability : 0.00000000\n",
            "Normal Probability : 1.00000000\n",
            "29\n",
            "Passing : 3\n",
            "Shooting\n",
            "Shooting Probability : 1.00000000\n",
            "Normal Probability : 0.00000000\n",
            "29\n",
            "Passing : 4\n",
            "Normal\n",
            "Shooting Probability : 0.00000000\n",
            "Normal Probability : 1.00000000\n"
          ],
          "name": "stdout"
        },
        {
          "output_type": "error",
          "ename": "KeyboardInterrupt",
          "evalue": "ignored",
          "traceback": [
            "\u001b[0;31m---------------------------------------------------------------------------\u001b[0m",
            "\u001b[0;31mKeyboardInterrupt\u001b[0m                         Traceback (most recent call last)",
            "\u001b[0;32m<ipython-input-12-d3b56379c3ed>\u001b[0m in \u001b[0;36m<module>\u001b[0;34m()\u001b[0m\n\u001b[1;32m     85\u001b[0m \u001b[0mwriter2\u001b[0m \u001b[0;34m=\u001b[0m \u001b[0mcv2\u001b[0m\u001b[0;34m.\u001b[0m\u001b[0mVideoWriter\u001b[0m\u001b[0;34m(\u001b[0m\u001b[0;34m\"/content/video/explosion_infer.avi\"\u001b[0m\u001b[0;34m,\u001b[0m \u001b[0mfourcc2\u001b[0m\u001b[0;34m,\u001b[0m \u001b[0;36m30\u001b[0m\u001b[0;34m,\u001b[0m\u001b[0;34m(\u001b[0m\u001b[0mint\u001b[0m\u001b[0;34m(\u001b[0m\u001b[0mwid\u001b[0m\u001b[0;34m)\u001b[0m\u001b[0;34m,\u001b[0m \u001b[0mint\u001b[0m\u001b[0;34m(\u001b[0m\u001b[0mhig\u001b[0m\u001b[0;34m)\u001b[0m\u001b[0;34m)\u001b[0m\u001b[0;34m,\u001b[0m \u001b[0;32mTrue\u001b[0m\u001b[0;34m)\u001b[0m\u001b[0;34m\u001b[0m\u001b[0;34m\u001b[0m\u001b[0m\n\u001b[1;32m     86\u001b[0m \u001b[0;32mwhile\u001b[0m \u001b[0mcap\u001b[0m\u001b[0;34m.\u001b[0m\u001b[0misOpened\u001b[0m\u001b[0;34m(\u001b[0m\u001b[0;34m)\u001b[0m\u001b[0;34m:\u001b[0m\u001b[0;34m\u001b[0m\u001b[0;34m\u001b[0m\u001b[0m\n\u001b[0;32m---> 87\u001b[0;31m   \u001b[0mret\u001b[0m\u001b[0;34m,\u001b[0m \u001b[0mframe\u001b[0m\u001b[0;34m=\u001b[0m \u001b[0mcap\u001b[0m\u001b[0;34m.\u001b[0m\u001b[0mread\u001b[0m\u001b[0;34m(\u001b[0m\u001b[0;34m)\u001b[0m\u001b[0;34m\u001b[0m\u001b[0;34m\u001b[0m\u001b[0m\n\u001b[0m\u001b[1;32m     88\u001b[0m   \u001b[0;32mif\u001b[0m \u001b[0mret\u001b[0m\u001b[0;34m==\u001b[0m \u001b[0;32mTrue\u001b[0m\u001b[0;34m:\u001b[0m\u001b[0;34m\u001b[0m\u001b[0;34m\u001b[0m\u001b[0m\n\u001b[1;32m     89\u001b[0m     \u001b[0;31m#frame=cv2.cvtColor(frame,cv2.COLOR_BGR2GRAY)\u001b[0m\u001b[0;34m\u001b[0m\u001b[0;34m\u001b[0m\u001b[0;34m\u001b[0m\u001b[0m\n",
            "\u001b[0;31mKeyboardInterrupt\u001b[0m: "
          ]
        }
      ]
    },
    {
      "cell_type": "code",
      "metadata": {
        "id": "CXyt8CZbeOGB",
        "colab_type": "code",
        "colab": {
          "base_uri": "https://localhost:8080/",
          "height": 35
        },
        "outputId": "7989849a-cade-4873-86b9-543eff674e50"
      },
      "source": [
        "format(4.6335987050611395e-28,\".8f\")"
      ],
      "execution_count": null,
      "outputs": [
        {
          "output_type": "execute_result",
          "data": {
            "application/vnd.google.colaboratory.intrinsic": {
              "type": "string"
            },
            "text/plain": [
              "'0.00000000'"
            ]
          },
          "metadata": {
            "tags": []
          },
          "execution_count": 32
        }
      ]
    },
    {
      "cell_type": "code",
      "metadata": {
        "id": "hbcrWH0Oq8yZ",
        "colab_type": "code",
        "colab": {}
      },
      "source": [
        "!mkdir \"/content/image_file_infer\""
      ],
      "execution_count": null,
      "outputs": []
    },
    {
      "cell_type": "code",
      "metadata": {
        "id": "aO1t4ivs4QpP",
        "colab_type": "code",
        "colab": {}
      },
      "source": [
        "!cp \"/content/murder_assault_final.avi\" \"/content/gdrive/My Drive/Security Dataset/Written USE CASES/\""
      ],
      "execution_count": 9,
      "outputs": []
    },
    {
      "cell_type": "code",
      "metadata": {
        "id": "bmvxDksnBNW_",
        "colab_type": "code",
        "colab": {
          "base_uri": "https://localhost:8080/",
          "height": 34
        },
        "outputId": "6c360c8b-0eff-47f6-db56-9931a661b730"
      },
      "source": [
        "!cp \"/content/video/explosion_infer.avi\" \"/content/gdrive/My Drive/Security Dataset/Written USE CASES/\""
      ],
      "execution_count": null,
      "outputs": [
        {
          "output_type": "stream",
          "text": [
            "cp: cannot stat '/content/video/explosion_infer.avi': No such file or directory\n"
          ],
          "name": "stdout"
        }
      ]
    },
    {
      "cell_type": "code",
      "metadata": {
        "id": "k9bhUxGA6pwe",
        "colab_type": "code",
        "colab": {}
      },
      "source": [
        "l=os.listdir(\"/content/\")"
      ],
      "execution_count": null,
      "outputs": []
    },
    {
      "cell_type": "code",
      "metadata": {
        "id": "FXUtlg6I9UyP",
        "colab_type": "code",
        "colab": {}
      },
      "source": [
        "k=[]\n",
        "for i in l:\n",
        "  if \".jpg\" in i:\n",
        "    k.append(i) "
      ],
      "execution_count": null,
      "outputs": []
    },
    {
      "cell_type": "code",
      "metadata": {
        "id": "4Wk7Dlk59Vwk",
        "colab_type": "code",
        "colab": {}
      },
      "source": [
        "for i in os.listdir(\"/content/\"):\n",
        "  if i in k:\n",
        "    os.remove(\"/content/\"+i)"
      ],
      "execution_count": null,
      "outputs": []
    },
    {
      "cell_type": "code",
      "metadata": {
        "id": "VMrdlJr0bmr_",
        "colab_type": "code",
        "colab": {
          "base_uri": "https://localhost:8080/",
          "height": 34
        },
        "outputId": "ac762fc7-0d0f-4ff5-82a2-8ba784fe32a9"
      },
      "source": [
        "import numpy as np\n",
        "import cv2\n",
        "\n",
        "# Create a black image\n",
        "img = np.zeros((512,512,3), np.uint8)\n",
        "\n",
        "# Write some Text\n",
        "\n",
        "font                   = cv2.FONT_HERSHEY_SIMPLEX\n",
        "bottomLeftCornerOfText = (10,500)\n",
        "fontScale              = 1\n",
        "fontColor              = (0,255,255)\n",
        "lineType               = 2\n",
        "\n",
        "cv2.putText(img,'Hello World!', \n",
        "    bottomLeftCornerOfText, \n",
        "    font, \n",
        "    fontScale,\n",
        "    fontColor,\n",
        "    lineType)\n",
        "\n",
        "#Display the image\n",
        "#cv2.imshow(\"img\",img)\n",
        "\n",
        "#Save image\n",
        "cv2.imwrite(\"out.jpg\", img)\n",
        "\n",
        "cv2.waitKey(0)"
      ],
      "execution_count": null,
      "outputs": [
        {
          "output_type": "execute_result",
          "data": {
            "text/plain": [
              "-1"
            ]
          },
          "metadata": {
            "tags": []
          },
          "execution_count": 44
        }
      ]
    },
    {
      "cell_type": "code",
      "metadata": {
        "id": "Z02yfL_JnEXw",
        "colab_type": "code",
        "colab": {}
      },
      "source": [
        ""
      ],
      "execution_count": null,
      "outputs": []
    }
  ]
}